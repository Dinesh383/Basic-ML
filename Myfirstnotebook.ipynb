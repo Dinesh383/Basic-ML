{
  "nbformat": 4,
  "nbformat_minor": 0,
  "metadata": {
    "colab": {
      "name": "Myfirstnotebook.ipynb",
      "provenance": [],
      "authorship_tag": "ABX9TyOcVFZ58ajYyyoe4tbrPSdd",
      "include_colab_link": true
    },
    "kernelspec": {
      "name": "python3",
      "display_name": "Python 3"
    },
    "language_info": {
      "name": "python"
    }
  },
  "cells": [
    {
      "cell_type": "markdown",
      "metadata": {
        "id": "view-in-github",
        "colab_type": "text"
      },
      "source": [
        "<a href=\"https://colab.research.google.com/github/Dinesh383/Basic-ML/blob/main/Myfirstnotebook.ipynb\" target=\"_parent\"><img src=\"https://colab.research.google.com/assets/colab-badge.svg\" alt=\"Open In Colab\"/></a>"
      ]
    },
    {
      "cell_type": "markdown",
      "metadata": {
        "id": "Irp1bf_SkbNp"
      },
      "source": [
        "**PYTHON PROGRAM TO  COUNT THE NUMBER OF CHARACTERS AND VOWELS IN THE GIVEN LINE OF TEXT**"
      ]
    },
    {
      "cell_type": "code",
      "metadata": {
        "colab": {
          "base_uri": "https://localhost:8080/"
        },
        "id": "7V4rNV8Rk0sY",
        "outputId": "90d6ea02-3893-422f-fab7-4247a6c989e1"
      },
      "source": [
        "txt=str(input())\n",
        "char=0\n",
        "vowels=0\n",
        "print(\"total number of characters in the string is\", len(txt))\n",
        "for n in txt:\n",
        "  if (n=='a' or n=='e' or n=='i' or n=='o' or n=='u' or n=='A' or n=='E' or n=='I' or n=='O' or n=='U'):\n",
        "    vowels=vowels+1\n",
        "print('total number of vowels is',vowels,'.')"
      ],
      "execution_count": 15,
      "outputs": [
        {
          "output_type": "stream",
          "text": [
            "DINESH\n",
            "total number of characters in the string is 6\n",
            "total number of vowels is 2 .\n"
          ],
          "name": "stdout"
        }
      ]
    },
    {
      "cell_type": "markdown",
      "metadata": {
        "id": "NIgs85ZYlux8"
      },
      "source": [
        "By using the above code we can find the number of characters and vowels in a given text.We use len() function to find the number of characters and for loop to find number of vowels."
      ]
    },
    {
      "cell_type": "markdown",
      "metadata": {
        "id": "f_sUl-O0nQFZ"
      },
      "source": [
        "**PYTHON PROGRAM TO FIND THE FACTORIAL OF A GIVEN NUMBER**"
      ]
    },
    {
      "cell_type": "code",
      "metadata": {
        "colab": {
          "base_uri": "https://localhost:8080/"
        },
        "id": "CQ0m-PXlnhsE",
        "outputId": "94de39d6-f606-4717-cec8-6e694297b6e1"
      },
      "source": [
        "n = int(input())    \n",
        "factorial = 1    \n",
        "if n < 0:    \n",
        "   print(\" Factorial does not exist for negative numbers\")    \n",
        "elif n == 0:    \n",
        "   print(\"The factorial of 0 is 1\")    \n",
        "else:    \n",
        "   for i in range(1,n + 1):    \n",
        "       factorial = factorial*i    \n",
        "   print(\"The factorial of\",n,\"is\",factorial)"
      ],
      "execution_count": 19,
      "outputs": [
        {
          "output_type": "stream",
          "text": [
            "24\n",
            "The factorial of 24 is 620448401733239439360000\n"
          ],
          "name": "stdout"
        }
      ]
    },
    {
      "cell_type": "markdown",
      "metadata": {
        "id": "AMk2_Bl4oXYd"
      },
      "source": [
        "By using the above code we can find factorial of a given number.When we input a number the above code gives the factorial of that number.For negative numbers factorial doesn't exist and for 0 factorial is 1 and for positive numbers factorial exists.We use if..elif...else..statements in this code. If the number is positive we use for loop and range() function to find factorial."
      ]
    },
    {
      "cell_type": "markdown",
      "metadata": {
        "id": "71QCTbTdrMu-"
      },
      "source": [
        "**PYTHON PROGRAM TO FIND SUM OF FIRST 'N' NATURAL NUMBERS**"
      ]
    },
    {
      "cell_type": "code",
      "metadata": {
        "colab": {
          "base_uri": "https://localhost:8080/"
        },
        "id": "QLtF3ZworUza",
        "outputId": "084ce124-e4dd-432d-d8c9-51093135dafb"
      },
      "source": [
        "n = int(input())\n",
        "\n",
        "if n< 0:\n",
        "   print(\"Enter a positive number\")\n",
        "else:\n",
        "   sum = 0\n",
        "   while(n > 0):\n",
        "       sum = sum+n\n",
        "       n -= 1\n",
        "   print(\"The sum is\", sum)"
      ],
      "execution_count": 21,
      "outputs": [
        {
          "output_type": "stream",
          "text": [
            "83\n",
            "The sum is 3486\n"
          ],
          "name": "stdout"
        }
      ]
    },
    {
      "cell_type": "markdown",
      "metadata": {
        "id": "WkYQrJNyr9Ee"
      },
      "source": [
        "By using the above python program we can find the sum of first 'n' natural numbers.Initially, the sum is initialized to and the number is stored in variable number. Then, we used the while loop to iterate until n becomes zero. In each iteration of the loop, we have added the n to sum and the value of n is decreased by 1."
      ]
    }
  ]
}