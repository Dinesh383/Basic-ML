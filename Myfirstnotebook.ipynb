{
  "nbformat": 4,
  "nbformat_minor": 0,
  "metadata": {
    "colab": {
      "name": "Myfirstnotebook.ipynb",
      "provenance": [],
      "collapsed_sections": [],
      "authorship_tag": "ABX9TyPikg1AbTbx6U7X4UWv1c5A",
      "include_colab_link": true
    },
    "kernelspec": {
      "name": "python3",
      "display_name": "Python 3"
    },
    "language_info": {
      "name": "python"
    }
  },
  "cells": [
    {
      "cell_type": "markdown",
      "metadata": {
        "id": "view-in-github",
        "colab_type": "text"
      },
      "source": [
        "<a href=\"https://colab.research.google.com/github/Dinesh383/Basic-ML/blob/main/Myfirstnotebook.ipynb\" target=\"_parent\"><img src=\"https://colab.research.google.com/assets/colab-badge.svg\" alt=\"Open In Colab\"/></a>"
      ]
    },
    {
      "cell_type": "code",
      "metadata": {
        "id": "6JQOpXjG2KrA"
      },
      "source": [
        "Python program to find maximum of two numbers"
      ],
      "execution_count": null,
      "outputs": []
    },
    {
      "cell_type": "code",
      "metadata": {
        "colab": {
          "base_uri": "https://localhost:8080/"
        },
        "id": "LyPQW0f82O0M",
        "outputId": "6308a712-ee93-4580-b959-a606f33d288f"
      },
      "source": [
        "a=int(input(\"enter a:\")) \n",
        "b=int(input(\"enter b:\")) \n",
        "if (a>b):\n",
        "   print(\"max is a\")\n",
        "else:\n",
        "   print(\"max is b\")"
      ],
      "execution_count": null,
      "outputs": [
        {
          "output_type": "stream",
          "text": [
            "enter a:100\n",
            "enter b:200\n",
            "max is b\n"
          ],
          "name": "stdout"
        }
      ]
    },
    {
      "cell_type": "markdown",
      "metadata": {
        "id": "qni2jOi42Z2z"
      },
      "source": [
        "Python program to find whether the given number is even or odd"
      ]
    },
    {
      "cell_type": "code",
      "metadata": {
        "colab": {
          "base_uri": "https://localhost:8080/"
        },
        "id": "5p63yBnx2gE9",
        "outputId": "2351937e-1b72-4bb1-9a74-884a27afea44"
      },
      "source": [
        " \n",
        "N=int(input())\n",
        "if (N%2==0):\n",
        "   print(\" Even\")\n",
        "else:\n",
        "   print (\" Odd\")"
      ],
      "execution_count": null,
      "outputs": [
        {
          "output_type": "stream",
          "text": [
            "24\n",
            " Even\n"
          ],
          "name": "stdout"
        }
      ]
    },
    {
      "cell_type": "markdown",
      "metadata": {
        "id": "2wf34PP02pTT"
      },
      "source": [
        " Python program to find whether the year is leap year or not"
      ]
    },
    {
      "cell_type": "code",
      "metadata": {
        "colab": {
          "base_uri": "https://localhost:8080/"
        },
        "id": "AD2c8Nm42vzp",
        "outputId": "ced13a69-b96e-4774-c2ae-81c01eba566d"
      },
      "source": [
        " \n",
        "y=int(input(\"enter a number:\")) \n",
        "if (y%4==0 and y%100!=0) or (y%400==0):\n",
        "   print(\"leap year\") \n",
        "else: \n",
        "   print(\"non leap year\")"
      ],
      "execution_count": null,
      "outputs": [
        {
          "output_type": "stream",
          "text": [
            "enter a number:2121\n",
            "non leap year\n"
          ],
          "name": "stdout"
        }
      ]
    }
  ]
}